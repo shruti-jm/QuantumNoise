{
 "cells": [
  {
   "cell_type": "markdown",
   "metadata": {},
   "source": [
    "# Introduction to quantum noise\n",
    "\n",
    "[1. Basic quantum optics](#quantumopt)\n",
    "\n",
    "[2. Standard quantum limit](#sql)\n",
    "\n",
    "[3. Squeezed states](#sqz)"
   ]
  },
  {
   "cell_type": "code",
   "execution_count": null,
   "metadata": {},
   "outputs": [],
   "source": [
    "import numpy as np\n",
    "import scipy.constants as scc\n",
    "import matplotlib as mpl, matplotlib.pyplot as plt\n",
    "mpl.style.use(['seaborn-whitegrid'])\n",
    "mpl.rcParams['lines.linewidth'] = 4\n",
    "mpl.rcParams['font.size'] = 18"
   ]
  },
  {
   "cell_type": "markdown",
   "metadata": {},
   "source": [
    "<a name='quantopt'> </a>\n",
    "\n",
    "# 1. Basic Quantum Optics\n",
    "\n",
    "The light fields and test mass behave as quantum harmonic oscillators\n",
    "\n",
    "## (a) Harmonic oscillator overview\n",
    "\n",
    "You may have seen the Hamiltonian for a simple harmonic oscillator in your classical mechanics course $ \\mathbf{H} = \\frac{\\mathbf{p}^2}{2m} + \\frac{1}{2} m \\omega^2 \\mathbf{x}^2 $. This describes an object trapped in a quadratic potential.\n",
    "\n",
    "To *quantize* this Hamiltonian, we identify its coordinate (position) $\\mathbf{x}$ and momentum $\\mathbf{p}$ with **operators** that act on **quantum states**. \n",
    "\n",
    "(The operators $\\mathbf{x}$ and $\\mathbf{p}$ don't commute with each other, which means that they cannot be measured precisely when this is attempted *simultaneously*. Hence, the Heisenberg uncertainty relation between their standard deviations.\n",
    "\n",
    "$$ \\begin{equation} [\\mathbf{x}, \\mathbf{p}] = i \\hbar \\implies \\Delta x \\Delta p \\geq \\hbar/2\n",
    "\\end{equation}$$)\n",
    "\n",
    "\n",
    "\n",
    "For our purposes, it turns out that replacing $x$ and $p$ with the creation and annihilation operators, $a^\\dagger$ and $a$, makes things easier.\n",
    "\n",
    "\n",
    "So, $\\mathbf{x} = \\sqrt{\\frac{\\hbar}{2m\\omega}} \\left(\\mathbf{a} + \\mathbf{a}^\\dagger \\right)$, and $\\mathbf{p} = \\sqrt{\\frac{\\hbar m \\omega}{2}} \\left(\\mathbf{a}^\\dagger - \\mathbf{a} \\right)$\n",
    "\n",
    "\n",
    "The Hamiltonian looks much nicer: \n",
    "$ \\mathbf{H} = \\hbar \\omega \\left(\\mathbf{a}^\\dagger \\mathbf{a} + \\frac{1}{2}\\right)$\n",
    "\n",
    "and $\\mathbf{a}^\\dagger \\mathbf{a}$ can be identified with the number operator $\\mathbf{N}$ which can tell us the number of energy 'quanta' in a state.\n",
    "\n"
   ]
  },
  {
   "cell_type": "markdown",
   "metadata": {},
   "source": [
    "\n",
    "\n",
    "## (b) Optical cavity\n",
    "\n",
    "The separation between two mirrors (*an optical cavity*) behaves like a harmonic 'potential' for modes of the electromagnetic field. \n",
    "\n",
    "In this case, the electric field quadratures can be considered to be analogous to position and momentum. (Verify that the classical Hamiltonian for the EM field is quadratic in the two fields.)\n",
    "\n",
    "$\\mathbf{E}_1 \\leftrightarrow \\mathbf{x}$, $\\mathbf{E}_2 \\leftrightarrow \\mathbf{p}$\n",
    "\n",
    " $E(t) \\sim E_1\\cos{\\omega t} + E_2\\sin{\\omega t} $ and $\\mathbf{E}_1 = \\left( \\frac{\\mathbf{a} + \\mathbf{a}^\\dagger}{2} \\right), \\mathbf{E}_2 = \\left( i\\frac{\\mathbf{a}^\\dagger -\\mathbf{a}}{2} \\right)$\n",
    "\n",
    "In this case, the energy quanta are *photons*, and the creation/annihilation operators when acted upon a state create/destroy a single photon. The Hamiltonian that describes this looks exactly as seen above\n",
    "$$  \\mathbf{H} = \\hbar \\omega \\left(\\mathbf{a}^\\dagger \\mathbf{a} + \\frac{1}{2}\\right)$$\n",
    "\n",
    "More properly, this Hamiltonian describes a single-mode of the EM field, and for this single-mode, $\\mathbf{E}(\\vec{r}) = i \\vec{\\epsilon_l} \\sqrt{\\frac{\\hbar \\omega_l}{2 \\epsilon_0 V}} \\left(\\mathbf{a}_l e^{i \\vec{k} \\cdot\\vec{r}} - \\mathbf{a}^\\dagger_l e^{-i \\vec{k} \\cdot\\vec{r}}\\right)$. These additional details will be neglected for the remainder of the presentation for simplicity."
   ]
  },
  {
   "cell_type": "markdown",
   "metadata": {},
   "source": [
    "\n",
    "## (c) Some optical states\n",
    "\n",
    "1. Number state or 'Fock state': \n",
    "when there are a fixed number of photons.\n",
    "The entire set of these also form a complete basis which turns out to be the eigenbasis for the Hamiltonian written above. \n",
    "$$ \\{| n \\rangle \\} \\equiv |0\\rangle, |1\\rangle, \\text{etc.}$$\n",
    "This state is very non-classical and hard to experimentally realize.\n",
    "\n",
    "2. Coherent state:\n",
    "eigenstate of $a$, the annihilation operator. This state is also said to be 'classical' or quasi-classical.\n",
    "\n",
    "To understand why, let us consider its form in the number state basis:\n",
    "$$ |\\alpha \\rangle = e^{-|\\alpha^2|/2} \\sum_{n=0}^{\\infty} \\frac{\\alpha^n}{\\sqrt{n!}} |n \\rangle$$\n",
    "\n",
    "where $\\alpha$ is a complex number.\n",
    "\n",
    "also, calculate $\\langle \\mathbf{N}\\rangle = |\\alpha|^2$ and $\\langle \\mathbf{N}^2\\rangle = |\\alpha|^2 + |\\alpha|^4 \\implies \\Delta N = |\\alpha| = \\sqrt{\\langle N \\rangle}$. This is characteristic of Poisson statistics which the photon number in the coherent state follows.\n"
   ]
  },
  {
   "cell_type": "markdown",
   "metadata": {},
   "source": [
    "\n",
    "*(Schrodinger picture)* In future times, the state evolves as \n",
    "$$ |\\alpha (t)\\rangle = e^{-i\\mathbf{H}t/\\hbar} |\\alpha \\rangle = |\\alpha e^{-i \\omega t} \\rangle$$\n",
    "up to an overall phase factor.\n",
    "\n",
    "Furthermore, we see that $\\alpha$ is proportional to the electric field amplitude and the $E$ field shows the same oscillating time dependence that one would expect in an electromagnetic wave. \n",
    "$$ \\langle \\alpha | E| \\alpha \\rangle \\sim (\\alpha - \\alpha^*) $$\n",
    "\n",
    "$$\\langle \\alpha(t) | E| \\alpha(t) \\rangle \\sim (e^{-i \\omega t} \\alpha - e^{i\\omega t} \\alpha^*) $$\n",
    "\n",
    "Considering the entirety of the field would result in $$ \\langle \\vec{E}(\\vec{r},t)\\rangle = i \\vec{\\epsilon_l} \\sqrt{\\frac{\\hbar \\omega_l}{2 \\epsilon_0 V}} \\left(\\alpha_l e^{i \\vec{k} \\cdot\\vec{r} - i \\omega t} - \\alpha^*_l e^{-i \\vec{k} \\cdot\\vec{r} + i \\omega t}\\right)$$\n",
    "\n",
    "Coherent states are also minimum uncertainty states, which means that $\\Delta E_1 \\Delta E_2 \\geq 1/2$ and $\\Delta E_1 = \\Delta E_2$.\n",
    "\n",
    "This happens to be the minimum uncertainty that any quadrature of classical light can possess and is related to the [standard quantum limit](#sql).\n",
    "\n",
    "Ordinarily generated laser light is considered to be in this state.\n",
    "\n",
    "\n",
    "3. Squeezed states:\n",
    "(Described in [section 3](#sqz))\n"
   ]
  },
  {
   "cell_type": "markdown",
   "metadata": {},
   "source": [
    "## (d) Coherent state evolution simulated\n",
    "\n",
    "`pip install qutip` for python package [QUantum Toolbox In Python](http://qutip.org)"
   ]
  },
  {
   "cell_type": "code",
   "execution_count": null,
   "metadata": {},
   "outputs": [],
   "source": [
    "import qutip as q"
   ]
  },
  {
   "cell_type": "markdown",
   "metadata": {},
   "source": [
    "Set up a model for a quantum harmonic oscillator with up to 30 photons:"
   ]
  },
  {
   "cell_type": "code",
   "execution_count": null,
   "metadata": {},
   "outputs": [],
   "source": [
    "N = 30           # dimension of Hilbert space\n",
    "\n",
    "n = q.num(N)     # number operator\n",
    "a = q.destroy(N) # annihilation operator\n",
    "\n",
    "x = a + a.dag()             # position or E operator\n",
    "p = -1j * (a - a.dag())     # momentum or B operator\n",
    "\n",
    "w = 2 * np.pi         # frequency\n",
    "H = w * a.dag() * a   # Harmonic oscillator Hamiltonion (ignoring the constants, hbar=1)"
   ]
  },
  {
   "cell_type": "code",
   "execution_count": null,
   "metadata": {},
   "outputs": [],
   "source": [
    "# Coherent state at time = 0\n",
    "alpha0 = q.coherent(N, 3.0)      # complex amplitude alpha = 3.0"
   ]
  },
  {
   "cell_type": "code",
   "execution_count": null,
   "metadata": {},
   "outputs": [],
   "source": [
    "t_vals = np.linspace(0, 5, 100)  # time over which to consider evolution, set to 5 periods\n",
    "\n",
    "# Solve the Master equation to get the evolved states at mentioned times\n",
    "result = q.mesolve(H, alpha0, t_vals, [], []) \n",
    "states = result.states      # Consider evolution of state over 5 periods"
   ]
  },
  {
   "cell_type": "code",
   "execution_count": null,
   "metadata": {},
   "outputs": [],
   "source": [
    "# Calculate the expectation values of n, x, and p operators at times in t_vals\n",
    "n_list = q.expect(n, states)\n",
    "x_list = q.expect(x, states)\n",
    "p_list = q.expect(p, states)"
   ]
  },
  {
   "cell_type": "markdown",
   "metadata": {},
   "source": [
    "Plot $x$ and $p$ evolution with shading showing standard deviation:"
   ]
  },
  {
   "cell_type": "code",
   "execution_count": null,
   "metadata": {},
   "outputs": [],
   "source": [
    "time_evol = {}\n",
    "var = {}\n",
    "for op in ['n','p','x']:\n",
    "    \n",
    "    exec(\"time_evol[op] = q.expect(%s, states)\" % (op))\n",
    "    exec(\"var[op] = q.variance(%s, states)\" % op)\n",
    "    \n",
    "fig, ax = plt.subplots(figsize=(10,8))\n",
    "\n",
    "ax.plot(t_vals, time_evol['x'], color='black')\n",
    "ax.plot(t_vals, time_evol['p'], color='black')\n",
    "ax.fill_between(t_vals, time_evol['x'] - np.sqrt(var['x']), time_evol['x'] + np.sqrt(var['x']), \\\n",
    "                color='orange', label='x')\n",
    "ax.fill_between(t_vals, time_evol['p'] - np.sqrt(var['p']), time_evol['p'] + np.sqrt(var['p']), \\\n",
    "                color='lightblue', label='p')\n",
    "\n",
    "ax.set_xlabel('time')\n",
    "\n",
    "ax.legend()"
   ]
  },
  {
   "cell_type": "markdown",
   "metadata": {},
   "source": [
    "Plot $n$ with uncertainty (standard deviation):"
   ]
  },
  {
   "cell_type": "code",
   "execution_count": null,
   "metadata": {},
   "outputs": [],
   "source": [
    "fig, ax = plt.subplots(figsize=(8,6))\n",
    "\n",
    "ax.plot(t_vals, time_evol['n'])\n",
    "ax.fill_between(t_vals, time_evol['n'] + np.sqrt(var['n']), time_evol['n'] - np.sqrt(var['n']), \\\n",
    "                color = 'lightgreen')\n",
    "\n",
    "ax.set_xlabel('time')\n",
    "ax.set_title('n')"
   ]
  },
  {
   "cell_type": "markdown",
   "metadata": {},
   "source": [
    "## (e) Preview to Wigner functions\n",
    "\n",
    "A detailed explanation of this is postponed to [section 3](#sqz), but for the time being notice that the histogram on the left is the probability of measuring the $n$ (Fock number) number of photons. Compare this which the amplitude squared of the coefficients when the coherent states are written in the Fock basis.\n",
    "\n",
    "Also notice that Re\\[$\\alpha$\\] ~ $x$ or $E_1$ and Im\\[$\\alpha$\\] ~ $p$ or $E_2$. \n",
    "\n",
    "The Wigner function plots have as the third axis the (quasi-)probability of measuring values of $\\alpha$ where the two independent axes are the two quadratures.\n",
    "\n",
    "Since this is a joint distribution of two non-commuting quantum operators, it is not a real probability distribution and can even be negative.\n",
    "(Recall or calculate $[X_1, X_2] = \\frac{i}{2}$)"
   ]
  },
  {
   "cell_type": "code",
   "execution_count": null,
   "metadata": {},
   "outputs": [],
   "source": [
    "# The coherent state considered above with alpha=3 or average photon number=9\n",
    "q.plot_wigner_fock_distribution(states[0])\n",
    "q.plot_wigner_fock_distribution(states[0], projection='3d')"
   ]
  },
  {
   "cell_type": "markdown",
   "metadata": {},
   "source": [
    "The number state has a negative values it its Wigner distribution"
   ]
  },
  {
   "cell_type": "markdown",
   "metadata": {},
   "source": [
    "### Fun fact:\n",
    "A coherent state with average number of photons $\\leq$ 1 is very different from the number state 1"
   ]
  },
  {
   "cell_type": "code",
   "execution_count": null,
   "metadata": {},
   "outputs": [],
   "source": [
    "# Coherent state at time = 0\n",
    "alpha1 = q.coherent(N, 1.0)      # complex amplitude alpha = 3.0"
   ]
  },
  {
   "cell_type": "code",
   "execution_count": null,
   "metadata": {},
   "outputs": [],
   "source": [
    "# Solve the Master equation to get the evolved states at mentioned times\n",
    "result1 = q.mesolve(H, alpha1, t_vals, [], []) \n",
    "states1 = result1.states     # Consider evolution of state over 5 periods"
   ]
  },
  {
   "cell_type": "code",
   "execution_count": null,
   "metadata": {},
   "outputs": [],
   "source": [
    "fig?"
   ]
  },
  {
   "cell_type": "code",
   "execution_count": null,
   "metadata": {},
   "outputs": [],
   "source": [
    "fig, ax = q.plot_wigner_fock_distribution(states1[0], colorbar=1)\n",
    "fig.set_size_inches(12,6)"
   ]
  },
  {
   "cell_type": "code",
   "execution_count": null,
   "metadata": {
    "scrolled": true
   },
   "outputs": [],
   "source": [
    "# A number state with 1 photons\n",
    "q.plot_wigner_fock_distribution(q.fock(N,1), colorbar=1)\n",
    "fig.set_size_inches(12,6)"
   ]
  },
  {
   "cell_type": "markdown",
   "metadata": {},
   "source": [
    "<a name='sql'> </a>\n",
    "# 2. Standard Quantum Limit\n",
    "\n",
    "## (a) Energy-Time Uncertainty\n",
    "Since position-momentum and the E-field quadratures are both well-defined quantum operators, their quantum-limited uncertainty can be estimated directly. \n",
    "$$\\Delta x \\Delta p \\geq \\hbar/2$$\n",
    "Time, not being such an operator, is a parameter that is estimated indirectly by measuring another operator. If such an operator is $\\mathbf{A}$, its Heisenberg evolution is described as $ i \\hbar \\frac{{\\rm d} \\mathbf{A}}{{\\rm d}t} = [\\mathbf{H}, \\mathbf{A}]$. Also since, $\\Delta E \\Delta A \\geq \\frac{|[H,A]|}{2}$, we can combine the two relations and obtain\n",
    "\n",
    "$$\\Delta t = \\frac{\\Delta A}{|{\\rm d} \\langle \\mathbf{A} \\rangle/{\\rm d}t|} \\geq \\frac{\\hbar}{2\\Delta E} $$\n",
    "\n",
    "Similarly, for the light field, the phase uncertainty can be inferred indirectly in relation to the number operator"
   ]
  },
  {
   "cell_type": "markdown",
   "metadata": {},
   "source": [
    "## (b) Measuring phase with a Mach-Zehnder interferometer\n",
    "\n",
    "This interferometer configuration is similar to a Michelson interferometer and can measure the path difference (or equivalently, the phase difference) between the two arms. However, since the reflected light interferes at a second beam splitter it is slightly simpler to analyze.\n",
    "\n",
    "<center><img src='MZ.jpeg' width=400></center>\n",
    "\n",
    "The transformation of the annihilation operators according to the Heisenberg picture is:\n",
    "\n",
    "$$\n",
    "\\begin{align}\n",
    "\\begin{pmatrix}\n",
    "c\\\\\n",
    "d\n",
    "\\end{pmatrix} &= \\frac{1}{\\sqrt 2}\n",
    "\\begin{pmatrix}\n",
    "1 & 1\\\\\n",
    "1 & -1\n",
    "\\end{pmatrix}\n",
    "\\begin{pmatrix}\n",
    "e^{i \\phi} & 0\\\\\n",
    "0 & 1\n",
    "\\end{pmatrix}\n",
    "\\frac{1}{\\sqrt 2}\n",
    "\\begin{pmatrix}\n",
    "1 & 1\\\\\n",
    "1 & -1\n",
    "\\end{pmatrix}\n",
    "\\begin{pmatrix}\n",
    "a\\\\\n",
    "b\n",
    "\\end{pmatrix}\\\\\n",
    "&= \n",
    "e^{i \\phi/2}\n",
    "\\begin{pmatrix}\n",
    "\\cos{\\phi} & i\\sin{\\phi}\\\\\n",
    "i\\sin{\\phi} & \\cos{\\phi}\n",
    "\\end{pmatrix}\n",
    "\\begin{pmatrix}\n",
    "a\\\\\n",
    "b\n",
    "\\end{pmatrix}\n",
    "\\end{align}\n",
    "$$"
   ]
  },
  {
   "cell_type": "markdown",
   "metadata": {},
   "source": [
    "To measure the phase, one way is to consider the difference between the intensities in the two output ports: $$\\mathbf{D} = \\mathbf{c}^\\dagger\\mathbf{c} - \\mathbf{d}^\\dagger\\mathbf{d} = \\cos{\\phi} \\left(\\mathbf{a}^\\dagger\\mathbf{a} - \\mathbf{b}^\\dagger\\mathbf{b}\\right) + i \\sin{\\phi} \\left(\\mathbf{a}^\\dagger\\mathbf{b} - \\mathbf{b}^\\dagger\\mathbf{a} \\right) $$ \n",
    "\n",
    "The phase-uncertainty, can then be written as\n",
    "$$\\Delta \\phi = \\frac{\\Delta \\mathbf{D}}{ |{\\rm d} \\langle \\mathbf{D} \\rangle/{\\rm d}\\phi|}$$\n",
    "\n",
    "$|{\\rm d} \\langle \\mathbf{D} \\rangle/{\\rm d}\\phi| = |-\\sin{\\phi}\\langle \\mathbf{a}^\\dagger\\mathbf{a} - \\mathbf{b}^\\dagger\\mathbf{b}\\rangle + i \\cos{\\phi} \\langle \\mathbf{a}^\\dagger\\mathbf{b} - \\mathbf{b}^\\dagger\\mathbf{a} \\rangle|$\n"
   ]
  },
  {
   "cell_type": "markdown",
   "metadata": {},
   "source": [
    "If we consider a coherent state $|\\alpha\\rangle$ in the port corresponding to $a$ and vacuum in $b$ and a measurement around $\\phi = \\pi/2$, $\\Delta D = |\\alpha|$ and $|{\\rm d} \\langle \\mathbf{D} \\rangle/{\\rm d}\\phi| = |\\alpha|^2 $\n",
    "\n",
    "$$\\implies \\Delta \\phi \\sim 1/|\\alpha| = 1/\\sqrt N$$\n",
    "\n",
    "This dependence is a also known as the **standard quantum limit** and is the best measurement of phase possible with a classical input. (Play around with the $\\phi$ and other configurations to get a better sense of this)"
   ]
  },
  {
   "cell_type": "markdown",
   "metadata": {},
   "source": [
    "### Quantum calculations\n",
    "\n",
    "The following cells demonstrate the dependence of phase uncertainty with phase offset of the MZ and average-photon number. \n",
    "\n",
    "Note that since the maximum number of number states considered is 50, this can be accurate only for $\\alpha << \\sqrt{50}$."
   ]
  },
  {
   "cell_type": "code",
   "execution_count": null,
   "metadata": {},
   "outputs": [],
   "source": [
    "def Delta_phi(phi, N, alpha):\n",
    "    \n",
    "\n",
    "    a = q.tensor(q.destroy(N), q.qeye(N)) # annihilation operator\n",
    "    b = q.tensor(q.qeye(N), q.destroy(N))\n",
    "    alpha_a = q.tensor(q.coherent(N, alpha), q.coherent(N,0))\n",
    "\n",
    "    Na = a.dag() * a\n",
    "    Nb = b.dag() * b\n",
    "\n",
    "    def D(phi):\n",
    "        return np.cos(phi) * (Na - Nb) + 1j * np.sin(phi) * (a.dag() * b - b.dag() * a)\n",
    "\n",
    "    def deltaD(phi, state):\n",
    "        return np.sqrt(q.expect(D(phi)**2, state) - (q.expect(D(phi), state)))\n",
    "\n",
    "    def dphi_D(phi):\n",
    "        return -np.sin(phi) * (Na - Nb) + 1j * np.cos(phi) * (a.dag() * b - b.dag() * a)\n",
    "\n",
    "    return np.abs(deltaD(phi, alpha_a)/ q.expect(dphi_D(phi), alpha_a))"
   ]
  },
  {
   "cell_type": "code",
   "execution_count": null,
   "metadata": {},
   "outputs": [],
   "source": [
    "N = 50\n",
    "phi_list = np.linspace(.1,4,100)\n",
    "alpha_list = np.linspace(1,6,5)\n",
    "\n",
    "delta_phi_list = {}\n",
    "\n",
    "for a in alpha_list:\n",
    "    delta_phi_list[str(int(a))] = np.array([Delta_phi(phi, N, a) for phi in phi_list])"
   ]
  },
  {
   "cell_type": "code",
   "execution_count": null,
   "metadata": {},
   "outputs": [],
   "source": [
    "fig, (ax1, ax2) = plt.subplots(1,2, figsize=(16,6))\n",
    "\n",
    "for a in alpha_list:\n",
    "    ax1.plot(phi_list/np.pi, delta_phi_list[str(int(a))]*180/np.pi, label='N = '+str(int(a**2)))\n",
    "    \n",
    "for a in alpha_list:\n",
    "    ax2.semilogy(phi_list/np.pi, delta_phi_list[str(int(a))]*180/np.pi, label='N = '+str(int(a**2)))\n",
    "\n",
    "ax1.set_ylim(0,600)\n",
    "fig.suptitle('Phase uncertainty with average photon number')\n",
    "\n",
    "ax2.set_xlim(.4,.6)\n",
    "ax2.set_ylim(10,60)\n",
    "ax2.set_title('Close up')\n",
    "\n",
    "for ax in (ax1, ax2):\n",
    "    ax.legend()\n",
    "    ax.set_xlabel('$\\phi / \\pi$ ')\n",
    "    ax.set_ylabel('$\\Delta \\phi$ (deg)')\n"
   ]
  },
  {
   "cell_type": "markdown",
   "metadata": {},
   "source": [
    "## (c) A real interferometer with a movable test mass"
   ]
  },
  {
   "cell_type": "code",
   "execution_count": null,
   "metadata": {},
   "outputs": [],
   "source": [
    "def disp_sql_ASD(f, m=40/4):\n",
    "    return np.sqrt(scc.hbar / (2 * m)) / (2*np.pi*f)\n",
    "\n",
    "def kappa(f, P, m):\n",
    "    return P / m / (2*np.pi*f)**2\n",
    "\n",
    "def disp_ASD(f ,P=1e3, m=40/4):\n",
    "    k = kappa(f,P,m)\n",
    "    return np.sqrt((1/k + k) / 2) * disp_sql_ASD(f,m)"
   ]
  },
  {
   "cell_type": "code",
   "execution_count": null,
   "metadata": {},
   "outputs": [],
   "source": [
    "ff = np.logspace(0,4, 200)"
   ]
  },
  {
   "cell_type": "code",
   "execution_count": null,
   "metadata": {},
   "outputs": [],
   "source": [
    "fig, ax = plt.subplots(figsize=(12,10))\n",
    "\n",
    "ax.loglog(ff, disp_sql_ASD(ff), color='black', linestyle=':', label='SQL')\n",
    "ax.loglog(ff, disp_ASD(ff, P=1e3), label='1 kW')\n",
    "ax.loglog(ff, disp_ASD(ff, P=100e3), label='100 kW')\n",
    "ax.loglog(ff, disp_ASD(ff, P=10e6), label='10 MW')\n",
    "\n",
    "ax.legend(fontsize=18)\n",
    "ax.set_xlabel('Frequency [Hz] ')\n",
    "ax.set_ylabel(r'Displacement ASD [m/$\\sqrt{\\rm Hz}$]', fontsize=15)\n",
    "\n",
    "ax.set_title('Displacement sensitivity of classical LIGO-type IFO');\n",
    "\n",
    "#fig.savefig('SQL.pdf', bbox_inches='tight')"
   ]
  },
  {
   "cell_type": "markdown",
   "metadata": {},
   "source": [
    "<a name='sqz'> </a>\n",
    "\n",
    "## 3. Squeezed states"
   ]
  },
  {
   "cell_type": "code",
   "execution_count": null,
   "metadata": {},
   "outputs": [],
   "source": [
    "sqz = q.squeeze(N, .1)\n",
    "\n",
    "# Solve the Master equation to get the evolved states at mentioned times\n",
    "result = q.mesolve(H, sqz, t_vals, [], []) \n",
    "states = result.states      # Consider evolution of state over 5 periods\n",
    "# Calculate the expectation values of n, x, and p operators at times in t_vals\n",
    "n_list = q.expect(n, states)\n",
    "x_list = q.expect(x, states)\n",
    "p_list = q.expect(p, states)"
   ]
  },
  {
   "cell_type": "code",
   "execution_count": null,
   "metadata": {},
   "outputs": [],
   "source": [
    "time_evol = {}\n",
    "var = {}\n",
    "for op in ['n','p','x']:\n",
    "    \n",
    "    exec(\"time_evol[op] = q.expect(%s, states)\" % (op))\n",
    "    exec(\"var[op] = q.variance(%s, states)\" % op)\n",
    "    \n",
    "fig, ax = plt.subplots()\n",
    "\n",
    "ax.plot(t_vals, time_evol['x'], color='black')\n",
    "#ax.plot(t_vals, time_evol['p'], color='black')\n",
    "ax.fill_between(t_vals, time_evol['x'] - np.sqrt(var['x']), time_evol['x'] + np.sqrt(var['x']), \\\n",
    "                color='orange', label='x')\n",
    "#ax.fill_between(t_vals, time_evol['p'] - np.sqrt(var['p']), time_evol['p'] + np.sqrt(var['p']), \\\n",
    "#                color='lightblue', label='p')\n",
    "\n",
    "ax.set_xlabel('time')\n",
    "\n",
    "ax.legend()"
   ]
  },
  {
   "cell_type": "code",
   "execution_count": null,
   "metadata": {},
   "outputs": [],
   "source": [
    "q.squeeze?"
   ]
  },
  {
   "cell_type": "code",
   "execution_count": null,
   "metadata": {},
   "outputs": [],
   "source": []
  }
 ],
 "metadata": {
  "kernelspec": {
   "display_name": "quantum-expts",
   "language": "python",
   "name": "quantum-expts"
  },
  "language_info": {
   "codemirror_mode": {
    "name": "ipython",
    "version": 3
   },
   "file_extension": ".py",
   "mimetype": "text/x-python",
   "name": "python",
   "nbconvert_exporter": "python",
   "pygments_lexer": "ipython3",
   "version": "3.8.3"
  }
 },
 "nbformat": 4,
 "nbformat_minor": 4
}
